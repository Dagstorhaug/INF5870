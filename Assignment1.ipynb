{
 "cells": [
  {
   "cell_type": "markdown",
   "metadata": {},
   "source": [
    "# Assignmnent 1 DRM\n",
    "\n",
    "#### by Dag Stabell Storhaug, Kristian Wang Høiem, Paul Joakim Andreassen, og Espen Sønneland"
   ]
  },
  {
   "cell_type": "markdown",
   "metadata": {},
   "source": [
    "## Abstract\n",
    "\n"
   ]
  },
  {
   "cell_type": "markdown",
   "metadata": {},
   "source": [
    "## The Code"
   ]
  },
  {
   "cell_type": "code",
   "execution_count": 1,
   "metadata": {},
   "outputs": [
    {
     "data": {
      "text/plain": [
       "'\\nPutt inn coden her\\n'"
      ]
     },
     "execution_count": 1,
     "metadata": {},
     "output_type": "execute_result"
    }
   ],
   "source": [
    "\"\"\"\n",
    "Putt inn coden her\n",
    "\"\"\""
   ]
  },
  {
   "cell_type": "markdown",
   "metadata": {},
   "source": [
    "## Task 1"
   ]
  },
  {
   "cell_type": "code",
   "execution_count": 2,
   "metadata": {},
   "outputs": [
    {
     "data": {
      "text/plain": [
       "'\\nPutt inn coden her\\n'"
      ]
     },
     "execution_count": 2,
     "metadata": {},
     "output_type": "execute_result"
    }
   ],
   "source": [
    "\"\"\"\n",
    "Putt inn coden her\n",
    "\"\"\""
   ]
  },
  {
   "cell_type": "code",
   "execution_count": null,
   "metadata": {},
   "outputs": [],
   "source": [
    "import numpy as np\n",
    "from scipy.optimize import linprog\n",
    "from numpy.linalg import solve\n",
    "\n",
    "hours = 24\n",
    "peak_hour_from = 17\n",
    "peak_hour_to = 20\n",
    "num_appl = 3 # Number of appliances\n",
    "\n",
    "dishwasher     = np.zeros(num_appl*hours) #[1, 1, 1, 1, 0, 0, 0, 0, 0, 0, 0, 0]\n",
    "washingmachine = np.zeros(num_appl*hours)  #[0, 0, 0, 0, 1, 1, 1, 1, 0, 0, 0, 0]\n",
    "EV             = np.zeros(num_appl*hours) #[0, 0, 0, 0, 0, 0, 0, 0, 1, 1, 1, 1]\n",
    "\n",
    "dishwasher[:24] = 1\n",
    "washingmachine[24:48] = 1\n",
    "EV[48:] = 1\n",
    "\n",
    "TotalEnergyConsumption_dishwasher = 1.44 # kWh\n",
    "TotalEnergyConsumption_washingmacine = 1.94  # kWh\n",
    "TotalEnergyConsumption_EV = 9.9 # kWh\n",
    "\n",
    "\n",
    "maxPowerUsage_dish = 1.8 # kW brukt per time\n",
    "maxPowerUsage_wash = 0.5 # kW brukt per time\n",
    "maxPowerUsage_EV = 3.6 # kW brukt per time \n",
    "\n",
    "price = np.ones(hours)*0.5\n",
    "price[peak_hour_from:peak_hour_to] = 1 # peak-hour 5pm-8pm\n",
    "\n",
    "A_eq = np.array([                        # Hvilke dingser som brukes i likhetsbegrensningen\n",
    "                dishwasher,\n",
    "                washingmachine,\n",
    "                EV\n",
    "])\n",
    "\n",
    "b_eq = np.array([TotalEnergyConsumption_dishwasher,      # Summen av likhetsbegresningen\n",
    "                 TotalEnergyConsumption_washingmacine,\n",
    "                 TotalEnergyConsumption_EV\n",
    "])\n",
    "\n",
    "A_ub = np.eye(num_appl*hours) # Hvilket timesobjekt begrensningen hører til \n",
    "\n",
    "b_ub = np.array( [maxPowerUsage_dish]*hours    # Begrensning\n",
    "                +[maxPowerUsage_wash]*hours\n",
    "                +[maxPowerUsage_EV]*hours\n",
    ")\n",
    "\n",
    "c = np.array([])  #np.array([p1,p2,p3,p4,p1,p2,p3,p4]) Coefficients of the linear objective function to be minimized\n",
    "for _ in range(num_appl):\n",
    "    c = np.append(price,c)\n",
    "\n",
    "res = linprog(c, A_eq=A_eq, b_eq=b_eq, A_ub=A_ub, b_ub=b_ub, bounds=(0, None))\n",
    "print('Optimal value:', res.fun, '\\nX:\\n', res.x.reshape(3,24))"
   ]
  },
  {
   "cell_type": "markdown",
   "metadata": {},
   "source": [
    "### Discution"
   ]
  },
  {
   "cell_type": "markdown",
   "metadata": {},
   "source": [
    "## Task 2"
   ]
  },
  {
   "cell_type": "code",
   "execution_count": 3,
   "metadata": {},
   "outputs": [
    {
     "data": {
      "text/plain": [
       "'\\nPutt inn coden her\\n'"
      ]
     },
     "execution_count": 3,
     "metadata": {},
     "output_type": "execute_result"
    }
   ],
   "source": [
    "\"\"\"\n",
    "Putt inn coden her\n",
    "\"\"\""
   ]
  },
  {
   "cell_type": "markdown",
   "metadata": {},
   "source": [
    "### Discution"
   ]
  },
  {
   "cell_type": "markdown",
   "metadata": {},
   "source": [
    "## Task 3"
   ]
  },
  {
   "cell_type": "code",
   "execution_count": 4,
   "metadata": {},
   "outputs": [
    {
     "data": {
      "text/plain": [
       "'\\nPutt inn coden her\\n'"
      ]
     },
     "execution_count": 4,
     "metadata": {},
     "output_type": "execute_result"
    }
   ],
   "source": [
    "\"\"\"\n",
    "Putt inn coden her\n",
    "\"\"\""
   ]
  },
  {
   "cell_type": "markdown",
   "metadata": {},
   "source": [
    "### Discution"
   ]
  },
  {
   "cell_type": "markdown",
   "metadata": {},
   "source": [
    "## Conclution"
   ]
  },
  {
   "cell_type": "code",
   "execution_count": null,
   "metadata": {
    "collapsed": true
   },
   "outputs": [],
   "source": []
  }
 ],
 "metadata": {
  "kernelspec": {
   "display_name": "Python 3",
   "language": "python",
   "name": "python3"
  },
  "language_info": {
   "codemirror_mode": {
    "name": "ipython",
    "version": 3
   },
   "file_extension": ".py",
   "mimetype": "text/x-python",
   "name": "python",
   "nbconvert_exporter": "python",
   "pygments_lexer": "ipython3",
   "version": "3.6.4"
  }
 },
 "nbformat": 4,
 "nbformat_minor": 2
}
