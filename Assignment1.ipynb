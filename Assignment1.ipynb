{
 "cells": [
  {
   "cell_type": "markdown",
   "metadata": {},
   "source": [
    "# Assignmnent 1 DRM\n",
    "\n",
    "#### by Dag Stabell Storhaug, Kristian Wang Høiem, Paul Joakim Andreassen, og Espen Sønneland"
   ]
  },
  {
   "cell_type": "markdown",
   "metadata": {},
   "source": [
    "## Abstract\n",
    "\n"
   ]
  },
  {
   "cell_type": "markdown",
   "metadata": {},
   "source": [
    "## The Code"
   ]
  },
  {
   "cell_type": "code",
   "execution_count": 1,
   "metadata": {},
   "outputs": [
    {
     "data": {
      "text/plain": [
       "'\\nPutt inn coden her\\n'"
      ]
     },
     "execution_count": 1,
     "metadata": {},
     "output_type": "execute_result"
    }
   ],
   "source": [
    "\"\"\"\n",
    "Putt inn coden her\n",
    "\"\"\""
   ]
  },
  {
   "cell_type": "markdown",
   "metadata": {},
   "source": [
    "## Task 1"
   ]
  },
  {
   "cell_type": "code",
   "execution_count": 2,
   "metadata": {},
   "outputs": [
    {
     "data": {
      "text/plain": [
       "'\\nPutt inn coden her\\n'"
      ]
     },
     "execution_count": 2,
     "metadata": {},
     "output_type": "execute_result"
    }
   ],
   "source": [
    "\"\"\"\n",
    "Putt inn coden her\n",
    "\"\"\""
   ]
  },
  {
   "cell_type": "code",
   "execution_count": 1,
   "metadata": {},
   "outputs": [
    {
     "name": "stdout",
     "output_type": "stream",
     "text": [
      "Optimal value: 6.640000000000001 \n",
      "X:\n",
      " [[1.44 0.   0.   0.   0.   0.   0.   0.   0.   0.   0.   0.   0.   0.\n",
      "  0.   0.   0.   0.   0.   0.   0.   0.   0.   0.  ]\n",
      " [0.5  0.5  0.5  0.44 0.   0.   0.   0.   0.   0.   0.   0.   0.   0.\n",
      "  0.   0.   0.   0.   0.   0.   0.   0.   0.   0.  ]\n",
      " [3.6  3.6  2.7  0.   0.   0.   0.   0.   0.   0.   0.   0.   0.   0.\n",
      "  0.   0.   0.   0.   0.   0.   0.   0.   0.   0.  ]]\n"
     ]
    }
   ],
   "source": [
    "import numpy as np\n",
    "from scipy.optimize import linprog\n",
    "from numpy.linalg import solve\n",
    "\n",
    "hours = 24\n",
    "peak_hour_from = 17\n",
    "peak_hour_to = 20\n",
    "num_appl = 3 # Number of appliances\n",
    "\n",
    "dishwasher     = np.zeros(num_appl*hours) #[1, 1, 1, 1, 0, 0, 0, 0, 0, 0, 0, 0]\n",
    "washingmachine = np.zeros(num_appl*hours)  #[0, 0, 0, 0, 1, 1, 1, 1, 0, 0, 0, 0]\n",
    "EV             = np.zeros(num_appl*hours) #[0, 0, 0, 0, 0, 0, 0, 0, 1, 1, 1, 1]\n",
    "\n",
    "dishwasher[:24] = 1\n",
    "washingmachine[24:48] = 1\n",
    "EV[48:] = 1\n",
    "\n",
    "TotalEnergyConsumption_dishwasher = 1.44 # kWh\n",
    "TotalEnergyConsumption_washingmacine = 1.94  # kWh\n",
    "TotalEnergyConsumption_EV = 9.9 # kWh\n",
    "\n",
    "\n",
    "maxPowerUsage_dish = 1.8 # kW brukt per time\n",
    "maxPowerUsage_wash = 0.5 # kW brukt per time\n",
    "maxPowerUsage_EV = 3.6 # kW brukt per time \n",
    "maxPowerusage_total = 10 # kW brukt per time\n",
    "\n",
    "price = np.ones(hours)*0.5\n",
    "price[peak_hour_from:peak_hour_to] = 1 # peak-hour 5pm-8pm\n",
    "\n",
    "A_eq = np.array([                        # Hvilke dingser som brukes i likhetsbegrensningen\n",
    "                dishwasher,\n",
    "                washingmachine,\n",
    "                EV\n",
    "])\n",
    "\n",
    "b_eq = np.array([TotalEnergyConsumption_dishwasher,      # Summen av likhetsbegresningen\n",
    "                 TotalEnergyConsumption_washingmacine,\n",
    "                 TotalEnergyConsumption_EV\n",
    "])\n",
    "\n",
    "\n",
    "A_mul = np.zeros((hours,num_appl*hours))\n",
    "for i in range(A_mul.shape[0]):\n",
    "    A_mul[i,i::hours] = 1\n",
    "A_one = np.eye(num_appl*hours)    \n",
    "A_ub = np.concatenate((A_one,A_mul),axis=0)  # Hvilket timesobjekt begrensningen hører til \n",
    "\n",
    "\n",
    "b_one_ub = np.array( [maxPowerUsage_dish]*hours    # Begrensning\n",
    "                    +[maxPowerUsage_wash]*hours\n",
    "                    +[maxPowerUsage_EV]*hours\n",
    ")\n",
    "b_max_ub = np.array([maxPowerusage_total]*hours)\n",
    "\n",
    "b_ub = np.concatenate((b_one_ub,b_max_ub)) \n",
    "\n",
    "c = np.array([])  #np.array([p1,p2,p3,p4,p1,p2,p3,p4]) Coefficients of the linear objective function to be minimized\n",
    "for _ in range(num_appl):\n",
    "    c = np.append(price,c)\n",
    "\n",
    "res = linprog(c, A_eq=A_eq, b_eq=b_eq, A_ub=A_ub, b_ub=b_ub, bounds=(0, None))\n",
    "print('Optimal value:', res.fun, '\\nX:\\n', res.x.reshape(num_appl,hours))\n"
   ]
  },
  {
   "cell_type": "code",
   "execution_count": null,
   "metadata": {},
   "outputs": [],
   "source": []
  },
  {
   "cell_type": "code",
   "execution_count": 2,
   "metadata": {},
   "outputs": [],
   "source": [
    "import numpy as np\n",
    "from scipy.optimize import linprog\n",
    "from numpy.linalg import solve\n",
    "\n",
    "def opt(name=None, consumption=0.0, maxPower=0.0, interval=None, \n",
    "        duration=1, starttime=None, price=0.0, maxPower_total=10):\n",
    "    '''\n",
    "    Optimises the daily cost related to energy consumption for a house with x appliances.\n",
    "    \n",
    "    Returns the optimal value and a matrix [number of appliances x hours of the day] consisting of hourly energy values, with rows \n",
    "    and columns corresponding to objects and hours of the day, respectively.\n",
    "    \n",
    "    ---------------------------------\n",
    "    Linear programming of the problem:\n",
    "    \n",
    "    minimise f(x) = c1x1_1 + c2x1_2 + c3x1_3 +..+ cnx1_n + c1x2_1 + c2x2_2 + c3x2_3 +..+ cnx2_n +..+ c1xm_1 + c2xm_2 + c3xm_3 +..+ cnxm_n\n",
    "    s.a.\n",
    "    \n",
    "    x1_1 + x1_2 +x1_3 +..+ x1_n = consumption1\n",
    "    x2_1 + x2_2 +x2_3 +..+ x2_n = consumption2\n",
    "                        .\n",
    "                        .\n",
    "    xm_1 + xm_2 + xm_3 +..+ xm_n = consumptionm\n",
    "    \n",
    "    x1_1 <= maxPower1\n",
    "    x1_2 <= maxPower1\n",
    "    x1_3 <= maxPower1\n",
    "            .\n",
    "    x1_n <= maxPower1\n",
    "    x2_1 <= maxPower2\n",
    "    x2_2 <= maxPower2\n",
    "    x2_3 <= maxPower2\n",
    "            .\n",
    "    x2_n <= maxPower2\n",
    "    xm_1 <= maxPowerm\n",
    "    xm_2 <= maxPowerm\n",
    "    xm_3 <= maxPowerm\n",
    "            .\n",
    "    xm_n <= maxPowerm\n",
    "    \n",
    "    x1_1 + x2_1 +..+ xm_1 <= maxPower_total\n",
    "    x1_2 + x2_2 +..+ xm_2 <= maxPower_total\n",
    "                        .\n",
    "    x1_n + x2_n +..+ xm_n <= maxPower_total\n",
    "    \n",
    "    x >= 0\n",
    "    \n",
    "    \n",
    "    '''\n",
    "    \n",
    "    # Initialising \n",
    "    hours = 24\n",
    "    peak_hour_from = 17\n",
    "    peak_hour_to = 20\n",
    "    num_appl = len(name) # Number of appliances\n",
    "\n",
    "    #maxPowerusage_total = 10 # kW brukt per time\n",
    "\n",
    "    price = np.ones(hours)*0.5\n",
    "    price[peak_hour_from:peak_hour_to] = 1 # peak-hour 5pm-8pm\n",
    "\n",
    "    # Initialising hourly appliance consumption matrix used for optimisation\n",
    "    A_eq = np.zeros((num_appl, num_appl*hours))\n",
    "    \n",
    "    # Assigns which element should correspond to a given appliance keeping the order.\n",
    "    for i in range(num_appl):\n",
    "        A_eq[i,i*hours:(i+1)*hours] = 1\n",
    "      \n",
    "    # The sum of equality constraints  \n",
    "    b_eq = consumption\n",
    "    \n",
    "    # Which time object the constraints belong to.\n",
    "    A_mul = np.zeros((hours,num_appl*hours))\n",
    "    for i in range(A_mul.shape[0]):\n",
    "        A_mul[i,i::hours] = 1\n",
    "    A_one = np.eye(num_appl*hours)    \n",
    "    A_ub = np.concatenate((A_one,A_mul),axis=0)\n",
    "\n",
    "    # Constraints\n",
    "    b_one_ub = []\n",
    "    for i in range(num_appl):\n",
    "        b_one_ub += [maxPower[i]]*hours\n",
    "    b_one_ub = np.array(b_one_ub)\n",
    "    b_max_ub = np.array([maxPower_total]*hours)\n",
    "    b_ub = np.concatenate((b_one_ub,b_max_ub)) \n",
    "    \n",
    "    # Price coefficents of the linear objective function to be minimized\n",
    "    c = np.array([])\n",
    "    for _ in range(num_appl):\n",
    "        c = np.append(price,c)\n",
    "\n",
    "    res = linprog(c, A_eq=A_eq, b_eq=b_eq, A_ub=A_ub, b_ub=b_ub, bounds=(0, None))\n",
    "    print('Optimal value:', res.fun, '\\nX:\\n', res.x.reshape(num_appl,hours))\n",
    "    \n",
    "    return res.fun, res.x.reshape(num_appl,hours)\n",
    "    "
   ]
  },
  {
   "cell_type": "code",
   "execution_count": 3,
   "metadata": {},
   "outputs": [
    {
     "name": "stdout",
     "output_type": "stream",
     "text": [
      "Optimal value: 6.640000000000001 \n",
      "X:\n",
      " [[1.44 0.   0.   0.   0.   0.   0.   0.   0.   0.   0.   0.   0.   0.\n",
      "  0.   0.   0.   0.   0.   0.   0.   0.   0.   0.  ]\n",
      " [3.6  3.6  2.7  0.   0.   0.   0.   0.   0.   0.   0.   0.   0.   0.\n",
      "  0.   0.   0.   0.   0.   0.   0.   0.   0.   0.  ]\n",
      " [0.5  0.5  0.5  0.44 0.   0.   0.   0.   0.   0.   0.   0.   0.   0.\n",
      "  0.   0.   0.   0.   0.   0.   0.   0.   0.   0.  ]]\n"
     ]
    }
   ],
   "source": [
    "import pandas as pd\n",
    "import numpy as np\n",
    "       \n",
    "        \n",
    "class House():\n",
    "    def __init__(self):\n",
    "        pass\n",
    "        \n",
    "    def cnstr(self):\n",
    "    \n",
    "        Apps.construct()\n",
    "        apps = [] # inneholder alle navn til apps\n",
    "        pd.DataFrame(data=[],index=apps, columns=[])\n",
    "    \n",
    "    def opt(self):\n",
    "        pass\n",
    "#\n",
    "  \n",
    "\n",
    "def random_float(a=0, b=0):\n",
    "    '''\n",
    "    Takes two floating point numbers and returns a floating point number between these numbers. \n",
    "    '''\n",
    "    return float((b-a)*np.random.random_sample(1) + a)\n",
    "\n",
    "def appliances():  \n",
    "    '''\n",
    "    Returns a dataframe with appliances as indexes and properties such as energy consumption as columns.\n",
    "    '''\n",
    "    Appliances = {\n",
    "        'Heating':{\n",
    "             'consumption': random_float(6.4,9.6), \n",
    "             'maxPower':0,\n",
    "             'interval': 0, \n",
    "             'duration': 0, \n",
    "             'starttime': 0, \n",
    "             'shiftable': 0\n",
    "        },\n",
    "        'Refrigerator_Freezer':{\n",
    "            'consumption': random_float(1.32,3.96), \n",
    "            'maxPower':0,\n",
    "            'interval': 0, \n",
    "            'duration': 0, \n",
    "            'starttime': 0, \n",
    "            'shiftable': 0\n",
    "        },\n",
    "        'Stove':{\n",
    "            'consumpotion': 3.9,\n",
    "            'maxPower':0,\n",
    "            'interval': 0, \n",
    "            'duration':0 , \n",
    "            'starttime':0 , \n",
    "            'shiftable': 0\n",
    "        },\n",
    "        'Dishwasher':{\n",
    "            'consumption': 1.44, \n",
    "            'maxPower': 1.8,\n",
    "            'interval': 0, \n",
    "            'duration': 0 , \n",
    "            'starttime': 0, \n",
    "            'shiftable': 1\n",
    "        },\n",
    "        'LaundryMachine':{\n",
    "            'consumption': 1.94,\n",
    "            'maxPower' : 0.5,\n",
    "            'interval': 0, \n",
    "            'duration': 0, \n",
    "            'starttime': 0, \n",
    "            'shiftable': 1\n",
    "        },\n",
    "        'EV':{\n",
    "            'consumption': 9.9,\n",
    "            'maxPower': 3.6,\n",
    "            'interval': 0, \n",
    "            'duration': 0, \n",
    "            'starttime': 0, \n",
    "            'shiftable': 1\n",
    "        },\n",
    "                #'ClothDryer',\n",
    "                #'Tv',\n",
    "                #'Computer',\n",
    "                #'CoffeeMaker',\n",
    "                #'CeilingFan',\n",
    "                #'HairDryer',\n",
    "                #'Toaster',\n",
    "                #'Microwave',\n",
    "                #'Router',\n",
    "                #'CellphoneCharge',\n",
    "                #'CliothIron',\n",
    "                #'SeparateFreezer'\n",
    "    }\n",
    "    \n",
    "    Appliances_df = pd.DataFrame.from_dict(data=Appliances, orient='index')  \n",
    "    \n",
    "    return Appliances_df    \n",
    "    \n",
    "    \n",
    "if __name__ == '__main__':\n",
    "   \n",
    "    app_df = appliances()\n",
    "    app_shift = app_df[app_df['shiftable'] == 1]\n",
    "    consumption = app_shift['consumption'].values\n",
    "    maxPower = app_shift['maxPower'].values\n",
    "    interval = app_shift['interval'].values\n",
    "    duration = app_shift['duration'].values\n",
    "    starttime = app_shift['starttime'].values\n",
    "    app_label = app_shift.index\n",
    "    opt(name=app_label, consumption=consumption, maxPower=maxPower, interval=interval, duration=duration, starttime=starttime)\n"
   ]
  },
  {
   "cell_type": "markdown",
   "metadata": {},
   "source": [
    "### Discution"
   ]
  },
  {
   "cell_type": "markdown",
   "metadata": {},
   "source": [
    "## Task 2"
   ]
  },
  {
   "cell_type": "code",
   "execution_count": 3,
   "metadata": {},
   "outputs": [
    {
     "data": {
      "text/plain": [
       "'\\nPutt inn coden her\\n'"
      ]
     },
     "execution_count": 3,
     "metadata": {},
     "output_type": "execute_result"
    }
   ],
   "source": [
    "\"\"\"\n",
    "Putt inn coden her\n",
    "\"\"\""
   ]
  },
  {
   "cell_type": "markdown",
   "metadata": {},
   "source": [
    "### Discution"
   ]
  },
  {
   "cell_type": "markdown",
   "metadata": {},
   "source": [
    "## Task 3"
   ]
  },
  {
   "cell_type": "code",
   "execution_count": 4,
   "metadata": {},
   "outputs": [
    {
     "data": {
      "text/plain": [
       "'\\nPutt inn coden her\\n'"
      ]
     },
     "execution_count": 4,
     "metadata": {},
     "output_type": "execute_result"
    }
   ],
   "source": [
    "\"\"\"\n",
    "Putt inn coden her\n",
    "\"\"\""
   ]
  },
  {
   "cell_type": "markdown",
   "metadata": {},
   "source": [
    "### Discution"
   ]
  },
  {
   "cell_type": "markdown",
   "metadata": {},
   "source": [
    "## Conclution"
   ]
  },
  {
   "cell_type": "code",
   "execution_count": null,
   "metadata": {
    "collapsed": true
   },
   "outputs": [],
   "source": []
  }
 ],
 "metadata": {
  "kernelspec": {
   "display_name": "Python 3",
   "language": "python",
   "name": "python3"
  },
  "language_info": {
   "codemirror_mode": {
    "name": "ipython",
    "version": 3
   },
   "file_extension": ".py",
   "mimetype": "text/x-python",
   "name": "python",
   "nbconvert_exporter": "python",
   "pygments_lexer": "ipython3",
   "version": "3.6.4"
  },
  "varInspector": {
   "cols": {
    "lenName": 16,
    "lenType": 16,
    "lenVar": 40
   },
   "kernels_config": {
    "python": {
     "delete_cmd_postfix": "",
     "delete_cmd_prefix": "del ",
     "library": "var_list.py",
     "varRefreshCmd": "print(var_dic_list())"
    },
    "r": {
     "delete_cmd_postfix": ") ",
     "delete_cmd_prefix": "rm(",
     "library": "var_list.r",
     "varRefreshCmd": "cat(var_dic_list()) "
    }
   },
   "types_to_exclude": [
    "module",
    "function",
    "builtin_function_or_method",
    "instance",
    "_Feature"
   ],
   "window_display": false
  }
 },
 "nbformat": 4,
 "nbformat_minor": 2
}
