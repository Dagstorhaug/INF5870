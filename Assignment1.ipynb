{
 "cells": [
  {
   "cell_type": "markdown",
   "metadata": {},
   "source": [
    "# Assignment 1 DRM\n",
    "\n",
    "#### by Dag Stabell Storhaug, Kristian Wang Høiem, Paul Joakim Andreassen, og Espen Sønneland"
   ]
  },
  {
   "cell_type": "markdown",
   "metadata": {},
   "source": [
    "## Abstract"
   ]
  },
  {
   "cell_type": "markdown",
   "metadata": {},
   "source": [
    "In this project our group has made a series of programs to find the optimal way for a household to schedule their shiftable electrical appliances. A shiftable appliance is defined as an electrical appliance that isn’t required to be switched on at specific points of the day. Such as charging of an electrical vehicle, a water heater or a laundry machine. \n",
    "Conversely, a non-shiftable appliance means they cannot be rescheduled to another timeslot in the day. For instance the lights in a house needs to be on whenever people are home and it’s dark outside, or a refrigerator or freezer needs to be on all day. Each house has a limit to how much power the household can consume, wich will be set by the main breaker switch.\n",
    "\n",
    "Two different pricing schemes are considered in this assignment. Time of Use pricing (ToU), where we assume that the price is 0.50NOK/kWh in non-peak hours and 1.00NOK/kWh in peak hours, and Real Time Pricing (RTP), where the price is set as a random number in a certain interval. The interval is different for peak hours and off-peak hours.\n",
    "\n",
    "The pricing scheme considered in all tasks is assumed to be set 24 hours in advance to make the assignment easier for ourselves. It is easier to assign timeslots for appliances when we know what the price will be at each hour of the day.\n",
    "\n",
    "Optimization has been done through the function \"scipy.optimize.linprog\" on a matrix containing all household appliances to find the optimal schedule to get the lowest electrical bill. The folowing constraints are applied:\n",
    "* Maximum energy drawn by each appliance each hour.\n",
    "* Each appliance needs to use a certain amount of energy each day\n",
    "* Maximum total energy available to the household each hour.\n",
    "* The majority of the appliances has a randomised interval to generate realistic varity.  \n"
   ]
  },
  {
   "cell_type": "markdown",
   "metadata": {},
   "source": [
    "## Imports"
   ]
  },
  {
   "cell_type": "code",
   "execution_count": 1,
   "metadata": {},
   "outputs": [],
   "source": [
    "import numpy as np\n",
    "import pandas as pd\n",
    "import matplotlib.pyplot as plt\n",
    "from scipy.optimize import linprog\n",
    "from numpy.linalg import solve\n",
    "from random import shuffle\n",
    "from random import seed\n",
    "import random"
   ]
  },
  {
   "cell_type": "markdown",
   "metadata": {},
   "source": [
    "## The Code"
   ]
  },
  {
   "cell_type": "code",
   "execution_count": 2,
   "metadata": {},
   "outputs": [],
   "source": [
    "def random_float(a=0, b=0):\n",
    "    '''\n",
    "    Takes two floating point numbers and returns a floating point number between these numbers. \n",
    "    '''\n",
    "    return float((b-a)*np.random.random_sample(1) + a)\n",
    "\n",
    "def interval(hour=1, start=0, stop=23, shuffle=False):\n",
    "    '''\n",
    "    Distributes the available hours where the appliance can be turned on, within the given interval, \n",
    "    from either start->stop, or within the timespan for the entire day\n",
    "    '''\n",
    "    if shuffle:\n",
    "        interval = np.zeros(24)\n",
    "        interval[:hour] = 1    \n",
    "        np.random.shuffle(interval)\n",
    "        return interval\n",
    "    else:\n",
    "        interval = np.zeros(stop-start + 1)\n",
    "        interval[:hour] = 1\n",
    "        np.random.shuffle(interval)\n",
    "        if start == 0:\n",
    "            padLeft = np.zeros(0)\n",
    "        else:\n",
    "            padLeft = np.zeros(start)\n",
    "        if stop == 23:\n",
    "            return np.append(padLeft,interval)\n",
    "        else:\n",
    "            padRight = np.zeros(24-len(interval)-len(padLeft))\n",
    "            return np.append(np.append(padLeft,interval),padRight)\n",
    "        \n",
    "def pricing_scheme(rtp=False):\n",
    "    '''\n",
    "    Generates a 24-hour pricing scheme. Outputs a fixed Time of Usage (ToU) \n",
    "    or a random Real Time Pricing (RTP)\n",
    "    '''\n",
    "    #static pricing scheme\n",
    "    if not rtp:\n",
    "        price = np.array([\n",
    "            0.5, 0.5, 0.5, 0.5, 0.5, 0.5, 0.5, 0.5, 0.5, 0.5, 0.5, 0.5, 0.5,\n",
    "            0.5, 0.5, 0.5, 0.5, 1, 1, 1, 1, 0.5, 0.5, 0.5\n",
    "        ])\n",
    "    #real time pricing scheme, as determined by random numbers\n",
    "    elif rtp:\n",
    "        price = np.array([\n",
    "            random_float(0.2, 1), random_float(0.2, 1),\n",
    "            random_float(0.2, 1), random_float(0.2, 1),\n",
    "            random_float(0.2, 1), random_float(0.2, 1),\n",
    "            random_float(0.2, 1), random_float(0.2, 1),\n",
    "            random_float(0.2, 1), random_float(0.2, 1),\n",
    "            random_float(0.2, 1), random_float(0.2, 1),\n",
    "            random_float(0.2, 1), random_float(0.2, 1),\n",
    "            random_float(0.2, 1), random_float(0.2, 1),\n",
    "            random_float(0.2, 1), random_float(0.8, 2),\n",
    "            random_float(0.8, 2), random_float(0.8, 2),\n",
    "            random_float(0.8, 2), random_float(0.2, 1),\n",
    "            random_float(0.2, 1), random_float(0.2, 1)\n",
    "        ])\n",
    "    return price\n",
    "\n",
    "def seed(seed=False):\n",
    "    '''\n",
    "    Set a seed to get the same result each time\n",
    "    '''\n",
    "    if seed:\n",
    "        np.random.seed(seed)\n",
    "    else:\n",
    "        pass"
   ]
  },
  {
   "cell_type": "code",
   "execution_count": 3,
   "metadata": {},
   "outputs": [],
   "source": [
    "#Creates a stacked bargraph. putting the values of the np.array 'nonshift' at\n",
    "# the bottom and the values of np.array 'shift' on top.\n",
    "def power_plots(shift=None, nonshift=None, shiftnames=None,\n",
    "                     nonshiftnames=None, price=None):\n",
    "    f, (consumptionfig) = plt.subplots(1, 1, figsize=(10,7))\n",
    "    \n",
    "    if shift is not None:\n",
    "        length = len(shift[0])\n",
    "    elif nonshift is not 0:\n",
    "        length = len(nonshift[0])\n",
    "    elif price is not None:\n",
    "        length = len(price)\n",
    "    bins = np.arange(0, length)\n",
    "    width = 0.9\n",
    "    bottom = np.zeros(length)\n",
    "\n",
    "    #iterate over shiftable and nonshiftable appliances to create stacked\n",
    "    # bars for the chart.\n",
    "    if nonshift is not 0:\n",
    "        for i in range(len(nonshift)):\n",
    "            consumptionfig.bar(bins, nonshift[i], width=width, bottom=bottom,\n",
    "                               label=nonshiftnames[i])\n",
    "            bottom = np.add(bottom, nonshift[i])\n",
    "    if shift is not None:\n",
    "        for i in range(len(shift)):\n",
    "            consumptionfig.bar(bins, shift[i], width=width, bottom=bottom,\n",
    "                               label=shiftnames[i])\n",
    "            bottom = np.add(bottom, shift[i])\n",
    "\n",
    "    consumptionfig.set(\n",
    "        title='Consumption of households',\n",
    "        xlabel='Hour',\n",
    "        xticks=bins,\n",
    "        ylabel='Consumption, kWh'\n",
    "        )\n",
    "\n",
    "    #Making the figure pretty\n",
    "    consumptionfig.tick_params(axis=\"both\", which=\"both\", bottom=\"off\",\n",
    "                               top=\"off\", labelbottom=\"on\", left=\"off\",\n",
    "                               right=\"off\", labelleft=\"on\")\n",
    "    consumptionfig.spines[\"top\"].set_visible(False)\n",
    "    consumptionfig.spines[\"bottom\"].set_visible(False)\n",
    "    consumptionfig.spines[\"right\"].set_visible(False)\n",
    "    consumptionfig.spines[\"left\"].set_visible(False)\n",
    "    consumptionfig.set_axisbelow(True)\n",
    "    consumptionfig.grid(b=True, which='major', axis='y', color='#cccccc',\n",
    "                        linestyle='--')\n",
    "\n",
    "    if price is not None:\n",
    "        pricefig = consumptionfig.twinx()\n",
    "        pricefig.step(bins, price, color='black', where='mid', label='price')\n",
    "        pricefig.set(ylabel='Price, NOK/kWh')\n",
    "        pricefig.spines[\"top\"].set_visible(False)\n",
    "        pricefig.spines[\"bottom\"].set_visible(False)\n",
    "        pricefig.spines[\"right\"].set_visible(False)\n",
    "        pricefig.spines[\"left\"].set_visible(False)\n",
    "        consumptionfig.set_axisbelow(True)\n",
    "        \n",
    "    #retrieving labels to make a neat legend\n",
    "    handles, labels = consumptionfig.get_legend_handles_labels()\n",
    "    handle, label =pricefig.get_legend_handles_labels()\n",
    "    consumptionfig.legend(bbox_to_anchor=(1.15, 1), loc=2, borderaxespad=0.)\n",
    "    pricefig.legend(bbox_to_anchor=(1.15, 0), loc=2, borderaxespad=0.)\n",
    "\n",
    "    plt.tight_layout()\n",
    "    plt.show()"
   ]
  },
  {
   "cell_type": "code",
   "execution_count": 4,
   "metadata": {},
   "outputs": [],
   "source": [
    "class House():\n",
    "\n",
    "    def construct(self,price=[], task=1):\n",
    "        '''\n",
    "        Choosing non-shiftable and shiftable appliances, and random \n",
    "        selection of optional appliances. Optimizing the shiftable \n",
    "        appliance scheduling with constraints. \n",
    "        '''\n",
    "        app_df = self.appliances()\n",
    "        \n",
    "        # Splitting dataframe into shiftables and non-shiftables\n",
    "        app_shift = app_df[app_df['shiftable'] == 1]\n",
    "        app_nonshift = app_df[app_df['shiftable'] == 0] \n",
    "            \n",
    "        # Splitting into optional and non-optional appliances\n",
    "        app_nonshift = app_nonshift[app_nonshift['optional'] == 0]\n",
    "        app_optional = app_df[app_df['optional'] == 1]\n",
    "        \n",
    "        # Random selection of optional appliances\n",
    "        app_optional = self.choose_optional(app_optional)\n",
    "        \n",
    "        # An unique selection of non-shiftable appliances\n",
    "        app_nonshift_total = app_nonshift.append(app_optional)\n",
    "        \n",
    "        # Getting the consumption of non-shiftable and shiftable appliances\n",
    "        if task == 1:\n",
    "            nonshift_consumption_total = np.zeros(24)\n",
    "            nonshift_consumption = 0\n",
    "        else:\n",
    "            # Random selection of EV \n",
    "            if task is not 2 and random_float(0, 1) > 0.2:\n",
    "                app_shift.drop(['EV'],inplace=True)\n",
    "            nonshift_consumption_total, nonshift_consumption = self.get_nonshift_consumption(app_nonshift_total)\n",
    "        shiftable_consumption = app_shift['consumption'].values\n",
    "        maxEnergy = app_shift['maxEnergy'].values\n",
    "        \n",
    "        # Names of non-shiftable and shiftable appliances\n",
    "        app_nonshift_label = app_nonshift_total.index\n",
    "        app_shift_label = app_shift.index\n",
    "        \n",
    "        # Intervals for when shiftable appliances can be on \n",
    "        intervals = app_shift['interval'].values.ravel()\n",
    "        \n",
    "        # Opimiztion and scheduling of shiftable appliances \n",
    "        optimal_value, shiftable_consumption_scheduling, name= self.opt(name=app_shift_label, \n",
    "                                                                         consumption=shiftable_consumption, \n",
    "                                                                         maxEnergy=maxEnergy,\n",
    "                                                                         maxEnergy_total=4.5,\n",
    "                                                                         intervals=intervals, \n",
    "                                                                         nonshift_consumption=nonshift_consumption_total, \n",
    "                                                                         price=price)\n",
    "        \n",
    "        return optimal_value, app_shift_label, shiftable_consumption_scheduling, app_nonshift_label, nonshift_consumption, nonshift_consumption_total, price\n",
    "    \n",
    "    def choose_optional(self,app_optional):\n",
    "        '''\n",
    "        Choosing optional non-shiftable appliances \n",
    "        '''\n",
    "        index = []\n",
    "        for i in range(len(app_optional)):\n",
    "            if np.random.randint(0,2):\n",
    "                index.append(app_optional.iloc[i])\n",
    "        return pd.DataFrame(index)\n",
    "\n",
    "    def appliances(self):  \n",
    "        '''\n",
    "        Returns a dataframe with appliances as indexes and properties such as energy consumption as columns.\n",
    "        '''\n",
    "        Appliances = {\n",
    "            'Heating':{\n",
    "                 'consumption': random_float(6.4,9.6), \n",
    "                 'maxEnergy':0,\n",
    "                 'interval': np.ones(24), \n",
    "                 'shiftable': 0,\n",
    "                 'optional': 0\n",
    "            },\n",
    "            'Refrigerator_Freezer':{\n",
    "                'consumption': random_float(1.32,3.96), \n",
    "                'maxEnergy':0,\n",
    "                'interval': np.ones(24), \n",
    "                'shiftable': 0,\n",
    "                'optional': 0\n",
    "            },\n",
    "            'Stove':{\n",
    "                'consumption': 3.9,\n",
    "                'maxEnergy': 2.2,\n",
    "                'interval': interval(2,14,19), \n",
    "                'shiftable': 0,\n",
    "                'optional': 0\n",
    "            },\n",
    "            'Dishwasher':{\n",
    "                'consumption': 1.44, \n",
    "                'maxEnergy': 1.8,\n",
    "                'interval': np.ones(24), \n",
    "                'shiftable': 1,\n",
    "                'optional': 0\n",
    "            },\n",
    "            'LaundryMachine':{\n",
    "                'consumption': 1.94,\n",
    "                'maxEnergy' : 0.5,\n",
    "                'interval': np.ones(24), \n",
    "                'shiftable': 1,\n",
    "                'optional': 0\n",
    "            },\n",
    "            'EV':{\n",
    "                'consumption': 9.9,\n",
    "                'maxEnergy': 3.6,\n",
    "                'interval': [1,1,1,1,1,1,1,0,0,0,0,0,0,0,0,0,0,0,0,0,0,0,1,1], \n",
    "                'shiftable': 1,\n",
    "                'optional': 0\n",
    "            },\n",
    "            'ClothDryer':{\n",
    "                'consumption': 2.5,\n",
    "                'maxEnergy': 3.0,\n",
    "                'interval': np.ones(24), \n",
    "                'shiftable': 1,\n",
    "                'optional': 0\n",
    "            },\n",
    "            'Tv':{\n",
    "                'consumption': random_float(0.15, 0.6),\n",
    "                'maxEnergy': 0.1,\n",
    "                'interval': interval(5), \n",
    "                'shiftable': 0,\n",
    "                'optional': 0\n",
    "            },\n",
    "            'Computer':{\n",
    "                'consumption': 0.6,\n",
    "                'maxEnergy': 0.1,\n",
    "                'interval': interval(6), \n",
    "                'shiftable': 0,\n",
    "                'optional': 0\n",
    "            },\n",
    "            'CoffeeMaker':{\n",
    "                'consumption': 3.0,\n",
    "                'maxEnergy': 1.5,\n",
    "                'interval': interval(2), \n",
    "                'shiftable': 0,\n",
    "                'optional': 1\n",
    "            },\n",
    "            'CeilingFan':{\n",
    "                'consumption': 0.45,\n",
    "                'maxEnergy': 0.075,\n",
    "                'interval': interval(6,16,22), \n",
    "                'shiftable': 0,\n",
    "                'optional': 1\n",
    "            },\n",
    "            'HairDryer':{\n",
    "                'consumption': 0.15,\n",
    "                'maxEnergy': 1.5,\n",
    "                'interval': interval(1,5,21),  \n",
    "                'shiftable': 0,\n",
    "                'optional': 1\n",
    "            },\n",
    "            'Toaster':{\n",
    "                'consumption': 0.22,\n",
    "                'maxEnergy': 1.2,\n",
    "                'interval': interval(1,7,12), \n",
    "                'shiftable': 0,\n",
    "                'optional': 1\n",
    "            },\n",
    "            'Microwave':{\n",
    "                'consumption': 0.6,\n",
    "                'maxEnergy': 1.2,\n",
    "                'interval': interval(1,6,21), \n",
    "                'shiftable': 0,\n",
    "                'optional': 1\n",
    "            },\n",
    "            'Router':{\n",
    "                'consumption': 0.144,\n",
    "                'maxEnergy': 0.006,\n",
    "                'interval': np.ones(24), \n",
    "                'shiftable': 0,\n",
    "                'optional': 1\n",
    "            },\n",
    "            'CellphoneCharge':{\n",
    "                'consumption': 0.015,\n",
    "                'maxEnergy': 0.005,\n",
    "                'interval': interval(3), \n",
    "                'shiftable': 0,\n",
    "                'optional': 1\n",
    "            },\n",
    "            'ClothIron':{\n",
    "                'consumption': 0.275,\n",
    "                'maxEnergy': 1.1,\n",
    "                'interval': interval(1,16,23), \n",
    "                'shiftable': 0,\n",
    "                'optional': 1\n",
    "            },\n",
    "            'SeparateFreezer':{\n",
    "                'consumption': 4.8,\n",
    "                'maxEnergy': 0.2,\n",
    "                'interval': np.ones(24),\n",
    "                'shiftable': 0,\n",
    "                'optional': 1\n",
    "            },\n",
    "            'Lighting':{\n",
    "                'consumption': random_float(1.0,2.0),\n",
    "                'maxEnergy': 0.06,\n",
    "                'interval': interval(10,10,20), \n",
    "                'shiftable': 0,\n",
    "                'optional': 0\n",
    "            }\n",
    "        }\n",
    "\n",
    "        Appliances_df = pd.DataFrame.from_dict(data=Appliances, orient='index')  \n",
    "\n",
    "        return Appliances_df   \n",
    "\n",
    "    def get_nonshift_consumption(self, app_df):    \n",
    "        '''\n",
    "        Gathers the nonshiftable appliances and returns the joint hourly consumption for all \n",
    "        appliances and hourly consumption for each individual appliance.\n",
    "        '''\n",
    "        nonShiftableUsage = np.zeros(24)\n",
    "        nonShiftables = app_df[app_df['shiftable'] == 0]\n",
    "        nonShiftables['consumption_h'] = pd.Series(np.zeros(len(nonShiftables['consumption'])), index=nonShiftables.index)\n",
    "\n",
    "        interval_hours_sum = []\n",
    "        \n",
    "        for i in range(len(nonShiftables)):\n",
    "            h = np.sum(nonShiftables['interval'][i])\n",
    "            interval_hours_sum.append(h)\n",
    "            if h:\n",
    "                nonShiftables['consumption_h'][i] = nonShiftables['consumption'][i]/h\n",
    "        \n",
    "        # Hourly consumption scheduling for each non-shiftable        \n",
    "        hourly_consumption = (nonShiftables['consumption']/interval_hours_sum)*nonShiftables['interval']\n",
    "        hourly_consumption = hourly_consumption.values\n",
    "        \n",
    "        # Total hourly consumption for non-shiftables \n",
    "        hourly_consumption_total = np.zeros(24)\n",
    "        for i in range(len(nonShiftables)):\n",
    "            for j in range(24):\n",
    "                hourly_consumption_total[j] += nonShiftables['interval'][i][j]*nonShiftables['consumption_h'][i]\n",
    "\n",
    "        return hourly_consumption_total, hourly_consumption\n",
    "\n",
    "\n",
    "    def opt(self, name=None, consumption=0.0, maxEnergy=0.0, intervals=None, \n",
    "            price=[], maxEnergy_total=5,nonshift_consumption=[]):\n",
    "        '''\n",
    "        Optimises the daily cost related to energy consumption for a house with x appliances.\n",
    "\n",
    "        Returns the optimal value and a matrix [number of appliances x hours of the day] consisting of hourly energy values, with rows \n",
    "        and columns corresponding to objects and hours of the day, respectively.\n",
    "\n",
    "        ---------------------------------\n",
    "        Linear programming of the problem:\n",
    "\n",
    "        minimise f(x) = c1x1_1 + c2x1_2 + c3x1_3 +..+ cnx1_n + c1x2_1 + c2x2_2 + c3x2_3 +..+ cnx2_n +..+ c1xm_1 + c2xm_2 + c3xm_3 +..+ cnxm_n\n",
    "        s.a.\n",
    "\n",
    "        x1_1 + x1_2 +x1_3 +..+ x1_n = consumption1\n",
    "        x2_1 + x2_2 +x2_3 +..+ x2_n = consumption2\n",
    "                            .\n",
    "                            .\n",
    "        xm_1 + xm_2 + xm_3 +..+ xm_n = consumptionm\n",
    "\n",
    "        x1_1 <= maxEnergy1\n",
    "        x1_2 <= maxEnergy1\n",
    "        x1_3 <= maxEnergy1\n",
    "                .\n",
    "        x1_n <= maxEnergy1\n",
    "        x2_1 <= maxEnergy2\n",
    "        x2_2 <= maxEnergy2\n",
    "        x2_3 <= maxEnergy2\n",
    "                .\n",
    "        x2_n <= maxEnergy2\n",
    "        xm_1 <= maxEnergym\n",
    "        xm_2 <= maxEnergym\n",
    "        xm_3 <= maxEnergym\n",
    "                .\n",
    "        xm_n <= maxEnergym\n",
    "\n",
    "        x1_1 + x2_1 +..+ xm_1 <= maxEnergy_total\n",
    "        x1_2 + x2_2 +..+ xm_2 <= maxEnergy_total\n",
    "                            .\n",
    "        x1_n + x2_n +..+ xm_n <= maxEnergy_total\n",
    "\n",
    "        x >= 0\n",
    "\n",
    "\n",
    "        '''\n",
    "\n",
    "        # Initialising \n",
    "        hours = 24\n",
    "        num_appl = len(name) # Number of appliances\n",
    "\n",
    "        # Initialising hourly appliance consumption matrix used for optimisation\n",
    "        A_eq = np.zeros((num_appl, num_appl*hours))\n",
    "\n",
    "        # Assigns which element should correspond to a given appliance keeping the order.\n",
    "\n",
    "        shift = 0\n",
    "        for i in range(num_appl):\n",
    "            for j in range(hours):\n",
    "                A_eq[i,j+(hours*i)] = intervals[i][j]\n",
    "\n",
    "\n",
    "        # The sum of equality constraints  \n",
    "        b_eq = consumption\n",
    "\n",
    "        # Which time object the constraints belong to.\n",
    "        A_mul = np.zeros((hours,num_appl*hours))\n",
    "        for i in range(A_mul.shape[0]):\n",
    "            A_mul[i,i::hours] = 1\n",
    "        A_one = np.eye(num_appl*hours)    \n",
    "        A_ub = np.concatenate((A_one,A_mul),axis=0)\n",
    "\n",
    "        # Constraints\n",
    "        b_one_ub = []\n",
    "        for i in range(num_appl):\n",
    "            b_one_ub += [maxEnergy[i]]*hours\n",
    "        b_one_ub = np.array(b_one_ub)\n",
    "        b_max_ub = np.ones(hours)*maxEnergy_total\n",
    "        b_max_ub -= nonshift_consumption\n",
    "\n",
    "        b_ub = np.concatenate((b_one_ub,b_max_ub)) \n",
    "\n",
    "        # Price coefficents of the linear objective function to be minimized\n",
    "        c = np.array([])\n",
    "        for _ in range(num_appl):\n",
    "            c = np.append(price,c)\n",
    "\n",
    "        res = linprog(c, A_eq=A_eq, b_eq=b_eq, A_ub=A_ub, b_ub=b_ub, bounds=(0, None))\n",
    "\n",
    "        return res.fun, res.x.reshape(num_appl,hours), name"
   ]
  },
  {
   "cell_type": "markdown",
   "metadata": {},
   "source": [
    "## Task 1"
   ]
  },
  {
   "cell_type": "code",
   "execution_count": 5,
   "metadata": {},
   "outputs": [
    {
     "data": {
      "image/png": "[encoded data removed]",
      "text/plain": [
       "<matplotlib.figure.Figure at 0x1db9bdbf0b8>"
      ]
     },
     "metadata": {},
     "output_type": "display_data"
    }
   ],
   "source": [
    "seed()\n",
    "price=pricing_scheme(rtp=False)\n",
    "house = House()\n",
    "\n",
    "total_price, shift_names, shift_consumption, nonshift_names, nonshift_consumption, nonshift_consumption_total, price = house.construct(price)\n",
    "power_plots(shift_consumption, nonshift_consumption, shift_names, nonshift_names, price)\n"
   ]
  },
  {
   "cell_type": "markdown",
   "metadata": {},
   "source": [
    "### Discussion"
   ]
  },
  {
   "cell_type": "markdown",
   "metadata": {},
   "source": [
    "First step was to construct the appliances for a simple household. The majority of the appliance has a random interval generator to create variance. The linear optimiser program uses constraints to limit the maximal usage of energy consumption for a given hour. This takes into consideration total energy consumption for a specific appliance per day, max energy consumption for a specific appliance per hour, and the total max energy consumption for each hour. \n",
    "\n",
    "The pricing follows a time of usage (ToU) schedule, so we create an array with a set interval of peak and off-peak hours. When we optimize, we multiply the energy consumption with the price of the hour. This favours the appliances to be on at off-peak hours.\n",
    "\n",
    "When optimizing with linprog, the function needs a matrix as an input. The matrix we send in has the shape shown in the figures below:\n",
    "\n",
    "\n"
   ]
  },
  {
   "cell_type": "markdown",
   "metadata": {},
   "source": [
    "<img src=\"./matrixleq.jpg\" width=\"800\" height=\"160\">\n",
    "<img src=\"./matrixeq.jpg\" width=\"800\" height=\"160\">"
   ]
  },
  {
   "cell_type": "markdown",
   "metadata": {},
   "source": [
    "When we look at the figure we see that all the appliances are turned on early and consectutively. This is not surprising, as this is off-peak hours, and as all off-peak hours are equally priced the program prefers early hours. This model will allways put shiftable appliances in the earliest off-peak hours, and then only the peak hours if forced."
   ]
  },
  {
   "cell_type": "markdown",
   "metadata": {},
   "source": [
    "#### Flowchart of task 1\n",
    "<img src=\"./flowcharttask1.png\" width=\"1200\" height=\"240\">"
   ]
  },
  {
   "cell_type": "markdown",
   "metadata": {},
   "source": [
    "## Task 2"
   ]
  },
  {
   "cell_type": "code",
   "execution_count": 6,
   "metadata": {
    "scrolled": true
   },
   "outputs": [
    {
     "name": "stderr",
     "output_type": "stream",
     "text": [
      "C:\\Users\\Kristian\\Anaconda3\\lib\\site-packages\\ipykernel_launcher.py:224: SettingWithCopyWarning: \n",
      "A value is trying to be set on a copy of a slice from a DataFrame\n",
      "\n",
      "See the caveats in the documentation: http://pandas.pydata.org/pandas-docs/stable/indexing.html#indexing-view-versus-copy\n"
     ]
    },
    {
     "data": {
      "image/png": "[encoded data removed]",
      "text/plain": [
       "<matplotlib.figure.Figure at 0x1db9bdbf3c8>"
      ]
     },
     "metadata": {},
     "output_type": "display_data"
    }
   ],
   "source": [
    "seed()\n",
    "price=pricing_scheme(rtp=True)\n",
    "house = House()\n",
    "\n",
    "total_price, shift_names, shift_consumption, nonshift_names, nonshift_consumption, nonshift_consumption_total, price = house.construct(price, task=2)\n",
    "power_plots(shift_consumption, nonshift_consumption, shift_names, nonshift_names, price)"
   ]
  },
  {
   "cell_type": "markdown",
   "metadata": {},
   "source": [
    "### Discussion"
   ]
  },
  {
   "cell_type": "markdown",
   "metadata": {},
   "source": [
    "For the second task of the assignment, the house was equipped with a set list of non-shiftable and shiftable appliances. A few optional non-shiftable appliances was added through random selection.\n",
    "\n",
    "Typical energy consumpion of the appliances was found through the website http://energyusecalculator.com/.\n",
    "\n",
    "Pricing scheme considered for this calculation was an RTP-scheme, where the price in non-peak hours is a random number between 0.20 and 1.00NOK/kWh every hour, and in peak hours the price is a random number between 0.80 and 2.00NOK/kWh.\n",
    "\n",
    "The optimization was done through the same process as in task 1.\n",
    "In this task however, the total energy available to the shiftable appliances is the total available energy with the energy used by non-shiftable application subtracted.\n"
   ]
  },
  {
   "cell_type": "markdown",
   "metadata": {},
   "source": [
    "#### Flowchart of task 2\n",
    "<img src=\"./flowcharttask2.png\" width=\"1200\" height=\"240\">"
   ]
  },
  {
   "cell_type": "markdown",
   "metadata": {},
   "source": [
    "## Task 3"
   ]
  },
  {
   "cell_type": "code",
   "execution_count": 7,
   "metadata": {},
   "outputs": [
    {
     "name": "stderr",
     "output_type": "stream",
     "text": [
      "C:\\Users\\Kristian\\Anaconda3\\lib\\site-packages\\ipykernel_launcher.py:32: SettingWithCopyWarning: \n",
      "A value is trying to be set on a copy of a slice from a DataFrame\n",
      "\n",
      "See the caveats in the documentation: http://pandas.pydata.org/pandas-docs/stable/indexing.html#indexing-view-versus-copy\n",
      "C:\\Users\\Kristian\\Anaconda3\\lib\\site-packages\\ipykernel_launcher.py:224: SettingWithCopyWarning: \n",
      "A value is trying to be set on a copy of a slice from a DataFrame\n",
      "\n",
      "See the caveats in the documentation: http://pandas.pydata.org/pandas-docs/stable/indexing.html#indexing-view-versus-copy\n"
     ]
    },
    {
     "data": {
      "image/png": "[encoded data removed]",
      "text/plain": [
       "<matplotlib.figure.Figure at 0x1db9bd83518>"
      ]
     },
     "metadata": {},
     "output_type": "display_data"
    },
    {
     "name": "stdout",
     "output_type": "stream",
     "text": [
      "56.80205448808428\n"
     ]
    }
   ],
   "source": [
    "shift_hood = np.zeros(24)\n",
    "nonshift_hood = np.zeros(24)\n",
    "price=pricing_scheme(rtp=True)\n",
    "hood_price=0\n",
    "num_houses = 30\n",
    "\n",
    "\n",
    "for _ in range(num_houses):\n",
    "    total_price, shift_names, shift_consumption, nonshift_names, nonshift_consumption, nonshift_consumption_total, _  = house.construct(price, task=3)\n",
    "    total_shift = [shift for shift in shift_consumption]\n",
    "    shift_hood += np.sum(total_shift, axis=0)\n",
    "    total_nonshift = [nonshift for nonshift in nonshift_consumption]\n",
    "    nonshift_hood += np.sum(total_nonshift, axis=0)\n",
    "    hood_price += total_price\n",
    "\n",
    "#shows the schedule of shiftable and nonshiftable appliances, and the cumulative power bill of entire neighborhood for 24h\n",
    "power_plots([shift_hood], [nonshift_hood], ['shiftable appliances'], ['nonshiftable appliances'], price)\n",
    "print(hood_price)\n",
    "    "
   ]
  },
  {
   "cell_type": "markdown",
   "metadata": {},
   "source": [
    "### Discussion"
   ]
  },
  {
   "cell_type": "markdown",
   "metadata": {},
   "source": [
    "In this task a neighborhood of 30 randomly generated households was constructed one by one. In the figure all shiftable appliances of all 30 houses are added together, then the non-shiftable appliances are added together as well. This is to get an idea of how the neighborhood chooses to schedule their power. The optimization of each house is done as in task 2.\n",
    "\n",
    "From the figure, it is apparent that most household chooses to schedule most of their optional power-use in hours with the lowest price. The reason for this is that the houses does not take their neighbors power usage into consideration when scheduling their own usage.\n",
    "\n",
    "The total power bill of the neighborhood varies from run to run. This is to be expected, as number and type of appliances of the neighborhood as well as price is random for each run."
   ]
  },
  {
   "cell_type": "markdown",
   "metadata": {},
   "source": [
    "#### Flowchart of task 3\n",
    "<img src=\"./flowcharttask3.png\" width=\"1200\" height=\"240\">"
   ]
  },
  {
   "cell_type": "markdown",
   "metadata": {},
   "source": [
    "## Conclusion"
   ]
  },
  {
   "cell_type": "markdown",
   "metadata": {
    "collapsed": true
   },
   "source": [
    "Our ToU-model has the energy usage compressed in the off-peak hours, while the RTP-models are far more complex and has the usage more spread throughout the day. This is a result of the ToU-model having large differences between off-peak and peak hours, and the RTP-model having a varying price schedule.\n",
    "\n",
    "An important detail is that each house in task 3 does not consider the usage of its neighbours. This results in a very large peak of power usage when the price is at its lowest. In a large city, this will be a problem, as the power demand would quickly exceed the capasity of the powerlines.\n",
    "\n",
    "A weakness in the proposed solution is that certain appliances that should be powered in consecutive hours, such as a laundry machine or clothes dryer, is sometimes powered in disconnected intervals of the day. As a result our final electrical bill will probably be slightly lower than a realistic household, since our appliances can choose not to run consecutively. To solve this, there would have to be a constraint in the linprog-function that made sure that certain appliances would be powered consecutively."
   ]
  },
  {
   "cell_type": "code",
   "execution_count": null,
   "metadata": {},
   "outputs": [],
   "source": []
  }
 ],
 "metadata": {
  "kernelspec": {
   "display_name": "Python 3",
   "language": "python",
   "name": "python3"
  },
  "language_info": {
   "codemirror_mode": {
    "name": "ipython",
    "version": 3
   },
   "file_extension": ".py",
   "mimetype": "text/x-python",
   "name": "python",
   "nbconvert_exporter": "python",
   "pygments_lexer": "ipython3",
   "version": "3.6.4"
  },
  "varInspector": {
   "cols": {
    "lenName": 16,
    "lenType": 16,
    "lenVar": 40
   },
   "kernels_config": {
    "python": {
     "delete_cmd_postfix": "",
     "delete_cmd_prefix": "del ",
     "library": "var_list.py",
     "varRefreshCmd": "print(var_dic_list())"
    },
    "r": {
     "delete_cmd_postfix": ") ",
     "delete_cmd_prefix": "rm(",
     "library": "var_list.r",
     "varRefreshCmd": "cat(var_dic_list()) "
    }
   },
   "types_to_exclude": [
    "module",
    "function",
    "builtin_function_or_method",
    "instance",
    "_Feature"
   ],
   "window_display": false
  }
 },
 "nbformat": 4,
 "nbformat_minor": 2
}
